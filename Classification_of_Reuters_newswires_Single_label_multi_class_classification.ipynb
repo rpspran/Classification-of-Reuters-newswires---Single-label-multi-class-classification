{
  "nbformat": 4,
  "nbformat_minor": 0,
  "metadata": {
    "colab": {
      "name": "Classification of Reuters newswires - Single label multi-class classification.ipynb",
      "provenance": []
    },
    "kernelspec": {
      "name": "python3",
      "display_name": "Python 3"
    }
  },
  "cells": [
    {
      "cell_type": "markdown",
      "metadata": {
        "id": "7BSpRterGhF-"
      },
      "source": [
        "Problem Statement:\n",
        "\n",
        "To classify Reuters newswires into 46 mutually exclusive topics. This problem is an instance of multi- class classification; and because each data point should be classified into only one category, the problem is more specifically an instance of single-label, multiclass classification.\n",
        "\n",
        "An approach using a Sequential neural network with three dense layers is presented.\n",
        "\n"
      ]
    },
    {
      "cell_type": "code",
      "metadata": {
        "id": "DB8qQL7fhXtr"
      },
      "source": [
        "import tensorflow\n",
        "import numpy as np\n",
        "from keras import layers\n",
        "from keras import models"
      ],
      "execution_count": 1,
      "outputs": []
    },
    {
      "cell_type": "code",
      "metadata": {
        "id": "s9DB52jijhq-"
      },
      "source": [
        "from keras import optimizers\n",
        "from keras import losses\n",
        "from keras import metrics\n"
      ],
      "execution_count": 2,
      "outputs": []
    },
    {
      "cell_type": "code",
      "metadata": {
        "id": "fI4XJfwbhfhO"
      },
      "source": [
        "import tensorflow"
      ],
      "execution_count": 3,
      "outputs": []
    },
    {
      "cell_type": "code",
      "metadata": {
        "id": "HAGnu92Qhibl",
        "colab": {
          "base_uri": "https://localhost:8080/"
        },
        "outputId": "68df100d-2ad0-494e-b993-263ffbf07d2b"
      },
      "source": [
        "from keras.datasets import reuters\n",
        "\n",
        "(train_data, train_labels), (test_data, test_labels) = reuters.load_data(num_words = 10000)"
      ],
      "execution_count": 4,
      "outputs": [
        {
          "output_type": "stream",
          "text": [
            "Downloading data from https://storage.googleapis.com/tensorflow/tf-keras-datasets/reuters.npz\n",
            "2113536/2110848 [==============================] - 0s 0us/step\n"
          ],
          "name": "stdout"
        },
        {
          "output_type": "stream",
          "text": [
            "/usr/local/lib/python3.6/dist-packages/tensorflow/python/keras/datasets/reuters.py:148: VisibleDeprecationWarning: Creating an ndarray from ragged nested sequences (which is a list-or-tuple of lists-or-tuples-or ndarrays with different lengths or shapes) is deprecated. If you meant to do this, you must specify 'dtype=object' when creating the ndarray\n",
            "  x_train, y_train = np.array(xs[:idx]), np.array(labels[:idx])\n",
            "/usr/local/lib/python3.6/dist-packages/tensorflow/python/keras/datasets/reuters.py:149: VisibleDeprecationWarning: Creating an ndarray from ragged nested sequences (which is a list-or-tuple of lists-or-tuples-or ndarrays with different lengths or shapes) is deprecated. If you meant to do this, you must specify 'dtype=object' when creating the ndarray\n",
            "  x_test, y_test = np.array(xs[idx:]), np.array(labels[idx:])\n"
          ],
          "name": "stderr"
        }
      ]
    },
    {
      "cell_type": "code",
      "metadata": {
        "id": "tOQfFxVjho8d"
      },
      "source": [
        "def vectorize(sequences, dimension = 10000):\n",
        "  results = np.zeros((len(sequences), dimension))\n",
        "  for i, sequence in enumerate(sequences):\n",
        "    results[i, sequence] = 1\n",
        "  return results"
      ],
      "execution_count": 5,
      "outputs": []
    },
    {
      "cell_type": "code",
      "metadata": {
        "id": "Bi6DVDJ5hv7m"
      },
      "source": [
        "x_train = vectorize(train_data, 10000)\n"
      ],
      "execution_count": 6,
      "outputs": []
    },
    {
      "cell_type": "code",
      "metadata": {
        "id": "b6TzbvyCiF0k"
      },
      "source": [
        "x_test = vectorize(test_data, 10000)"
      ],
      "execution_count": 7,
      "outputs": []
    },
    {
      "cell_type": "code",
      "metadata": {
        "id": "bMH4NdZAiR4P"
      },
      "source": [
        "def one_hot_encoding(sequences, dimension = 46):\n",
        "  op = np.zeros((len(sequences), dimension))\n",
        "  for i, sequence in enumerate(sequences):\n",
        "    op[i, sequence] = 1\n",
        "  return op "
      ],
      "execution_count": 8,
      "outputs": []
    },
    {
      "cell_type": "code",
      "metadata": {
        "id": "Lxz_59ptiTzV"
      },
      "source": [
        "y_train = one_hot_encoding(train_labels, 46)\n",
        "y_test = one_hot_encoding(test_labels, 46)"
      ],
      "execution_count": 9,
      "outputs": []
    },
    {
      "cell_type": "code",
      "metadata": {
        "id": "0bu2rsHImbm3"
      },
      "source": [
        "from tensorflow.python.keras.layers import Input, Dense\n",
        "from tensorflow.python.keras.models import Sequential\n"
      ],
      "execution_count": 10,
      "outputs": []
    },
    {
      "cell_type": "code",
      "metadata": {
        "id": "lamv6peWikQd"
      },
      "source": [
        "network = models.Sequential()\n",
        "network.add(layers.Dense(64, input_shape = (10000,), activation = 'relu'))\n",
        "network.add(layers.Dense(64, activation = 'relu'))\n",
        "network.add(layers.Dense(46, activation = 'softmax'))\n"
      ],
      "execution_count": 11,
      "outputs": []
    },
    {
      "cell_type": "code",
      "metadata": {
        "colab": {
          "base_uri": "https://localhost:8080/"
        },
        "id": "tNXDYHVqHY0b",
        "outputId": "f3eb07a3-f9aa-4dc5-ccc8-457e2ad2a6b2"
      },
      "source": [
        "network.summary()"
      ],
      "execution_count": 30,
      "outputs": [
        {
          "output_type": "stream",
          "text": [
            "Model: \"sequential_2\"\n",
            "_________________________________________________________________\n",
            "Layer (type)                 Output Shape              Param #   \n",
            "=================================================================\n",
            "dense_6 (Dense)              (None, 64)                640064    \n",
            "_________________________________________________________________\n",
            "dense_7 (Dense)              (None, 64)                4160      \n",
            "_________________________________________________________________\n",
            "dense_8 (Dense)              (None, 46)                2990      \n",
            "=================================================================\n",
            "Total params: 647,214\n",
            "Trainable params: 647,214\n",
            "Non-trainable params: 0\n",
            "_________________________________________________________________\n"
          ],
          "name": "stdout"
        }
      ]
    },
    {
      "cell_type": "code",
      "metadata": {
        "id": "Yx1PTRx5itWc"
      },
      "source": [
        "network.compile(optimizer='rmsprop',\n",
        "              loss='categorical_crossentropy',\n",
        "              metrics=['accuracy'])"
      ],
      "execution_count": 12,
      "outputs": []
    },
    {
      "cell_type": "code",
      "metadata": {
        "id": "6z4S4a8sjvRy"
      },
      "source": [
        "x_val = x_train[:1000]\n",
        "partial_x_train = x_train[1000:]\n",
        "y_val = y_train[:1000]\n",
        "partial_y_train = y_train[1000:]\n",
        "\n"
      ],
      "execution_count": 13,
      "outputs": []
    },
    {
      "cell_type": "code",
      "metadata": {
        "id": "rLaU1Un_mBWD",
        "colab": {
          "base_uri": "https://localhost:8080/"
        },
        "outputId": "8e78d98d-c0a2-4414-f1a4-39bd510fb54e"
      },
      "source": [
        "history = network.fit(partial_x_train, partial_y_train, epochs = 20, batch_size = 512, validation_data = (x_val, y_val))"
      ],
      "execution_count": 14,
      "outputs": [
        {
          "output_type": "stream",
          "text": [
            "Epoch 1/20\n",
            "16/16 [==============================] - 2s 77ms/step - loss: 3.1767 - accuracy: 0.3801 - val_loss: 1.7810 - val_accuracy: 0.6270\n",
            "Epoch 2/20\n",
            "16/16 [==============================] - 1s 47ms/step - loss: 1.5406 - accuracy: 0.6791 - val_loss: 1.3092 - val_accuracy: 0.7160\n",
            "Epoch 3/20\n",
            "16/16 [==============================] - 1s 49ms/step - loss: 1.0842 - accuracy: 0.7708 - val_loss: 1.1246 - val_accuracy: 0.7680\n",
            "Epoch 4/20\n",
            "16/16 [==============================] - 1s 48ms/step - loss: 0.8367 - accuracy: 0.8261 - val_loss: 1.0383 - val_accuracy: 0.7880\n",
            "Epoch 5/20\n",
            "16/16 [==============================] - 1s 47ms/step - loss: 0.6534 - accuracy: 0.8673 - val_loss: 0.9614 - val_accuracy: 0.8060\n",
            "Epoch 6/20\n",
            "16/16 [==============================] - 1s 48ms/step - loss: 0.5427 - accuracy: 0.8889 - val_loss: 0.9360 - val_accuracy: 0.8170\n",
            "Epoch 7/20\n",
            "16/16 [==============================] - 1s 46ms/step - loss: 0.4417 - accuracy: 0.9085 - val_loss: 0.8969 - val_accuracy: 0.8210\n",
            "Epoch 8/20\n",
            "16/16 [==============================] - 1s 48ms/step - loss: 0.3522 - accuracy: 0.9301 - val_loss: 0.8963 - val_accuracy: 0.8250\n",
            "Epoch 9/20\n",
            "16/16 [==============================] - 1s 48ms/step - loss: 0.2884 - accuracy: 0.9372 - val_loss: 0.9160 - val_accuracy: 0.8180\n",
            "Epoch 10/20\n",
            "16/16 [==============================] - 1s 47ms/step - loss: 0.2458 - accuracy: 0.9448 - val_loss: 0.8910 - val_accuracy: 0.8280\n",
            "Epoch 11/20\n",
            "16/16 [==============================] - 1s 56ms/step - loss: 0.2058 - accuracy: 0.9545 - val_loss: 0.9475 - val_accuracy: 0.8180\n",
            "Epoch 12/20\n",
            "16/16 [==============================] - 1s 46ms/step - loss: 0.1940 - accuracy: 0.9527 - val_loss: 0.9522 - val_accuracy: 0.8170\n",
            "Epoch 13/20\n",
            "16/16 [==============================] - 1s 47ms/step - loss: 0.1629 - accuracy: 0.9562 - val_loss: 0.9486 - val_accuracy: 0.8210\n",
            "Epoch 14/20\n",
            "16/16 [==============================] - 1s 46ms/step - loss: 0.1413 - accuracy: 0.9565 - val_loss: 1.0095 - val_accuracy: 0.8020\n",
            "Epoch 15/20\n",
            "16/16 [==============================] - 1s 49ms/step - loss: 0.1360 - accuracy: 0.9621 - val_loss: 0.9603 - val_accuracy: 0.8250\n",
            "Epoch 16/20\n",
            "16/16 [==============================] - 1s 46ms/step - loss: 0.1281 - accuracy: 0.9578 - val_loss: 1.0124 - val_accuracy: 0.8210\n",
            "Epoch 17/20\n",
            "16/16 [==============================] - 1s 47ms/step - loss: 0.1198 - accuracy: 0.9601 - val_loss: 1.0410 - val_accuracy: 0.8070\n",
            "Epoch 18/20\n",
            "16/16 [==============================] - 1s 47ms/step - loss: 0.1089 - accuracy: 0.9626 - val_loss: 1.0727 - val_accuracy: 0.8070\n",
            "Epoch 19/20\n",
            "16/16 [==============================] - 1s 47ms/step - loss: 0.1112 - accuracy: 0.9599 - val_loss: 1.0278 - val_accuracy: 0.8110\n",
            "Epoch 20/20\n",
            "16/16 [==============================] - 1s 45ms/step - loss: 0.1044 - accuracy: 0.9609 - val_loss: 1.0669 - val_accuracy: 0.8060\n"
          ],
          "name": "stdout"
        }
      ]
    },
    {
      "cell_type": "code",
      "metadata": {
        "id": "-kpMViiMldpE",
        "colab": {
          "base_uri": "https://localhost:8080/"
        },
        "outputId": "0bc53106-bbdb-4787-8b55-ac664b044d58"
      },
      "source": [
        "import matplotlib.pyplot as plt\n",
        "\n",
        "history_dict = history.history\n",
        "history_dict.keys()"
      ],
      "execution_count": 15,
      "outputs": [
        {
          "output_type": "execute_result",
          "data": {
            "text/plain": [
              "dict_keys(['loss', 'accuracy', 'val_loss', 'val_accuracy'])"
            ]
          },
          "metadata": {
            "tags": []
          },
          "execution_count": 15
        }
      ]
    },
    {
      "cell_type": "code",
      "metadata": {
        "id": "Pn_EmuAhl_88"
      },
      "source": [
        "loss_values = history_dict['loss']\n",
        "val_loss_values = history_dict['val_loss']\n",
        "\n",
        "accuracy_values = history_dict['accuracy']\n",
        "val_accuracy_values = history_dict['val_accuracy']"
      ],
      "execution_count": 16,
      "outputs": []
    },
    {
      "cell_type": "code",
      "metadata": {
        "id": "tWLP8kpplfUn",
        "colab": {
          "base_uri": "https://localhost:8080/",
          "height": 279
        },
        "outputId": "48836dfc-1bdc-4e90-cbb9-e0a272cb7127"
      },
      "source": [
        "epochs =  range(1, len(loss_values)+1)\n",
        "plt.plot(epochs, loss_values, 'bo', label = 'training loss')\n",
        "plt.plot(epochs, val_loss_values, 'b', label = 'validation loss')\n",
        "plt.legend()\n",
        "plt.xlabel('Epochs')\n",
        "plt.ylabel('Loss')\n",
        "plt.show()"
      ],
      "execution_count": 17,
      "outputs": [
        {
          "output_type": "display_data",
          "data": {
            "image/png": "[encoded data removed]",
            "text/plain": [
              "<Figure size 432x288 with 1 Axes>"
            ]
          },
          "metadata": {
            "tags": [],
            "needs_background": "light"
          }
        }
      ]
    },
    {
      "cell_type": "code",
      "metadata": {
        "id": "vVB_zyscmuDW",
        "colab": {
          "base_uri": "https://localhost:8080/",
          "height": 279
        },
        "outputId": "6a39a0b4-20ad-4577-85e3-30502675a86a"
      },
      "source": [
        "epochs =  range(1, len(loss_values)+1)\n",
        "plt.plot(epochs, accuracy_values, 'bo', label = 'Training Accuracy')\n",
        "plt.plot(epochs, val_accuracy_values, 'b', label = 'Validation Accuracy')\n",
        "plt.legend()\n",
        "plt.xlabel('Epochs')\n",
        "plt.ylabel('Accuracy')\n",
        "plt.show()"
      ],
      "execution_count": 18,
      "outputs": [
        {
          "output_type": "display_data",
          "data": {
            "image/png": "[encoded data removed]",
            "text/plain": [
              "<Figure size 432x288 with 1 Axes>"
            ]
          },
          "metadata": {
            "tags": [],
            "needs_background": "light"
          }
        }
      ]
    },
    {
      "cell_type": "code",
      "metadata": {
        "id": "Y1ncg_Lum_My",
        "colab": {
          "base_uri": "https://localhost:8080/"
        },
        "outputId": "51b83a6c-afc9-4657-e0cd-7dde41bfa122"
      },
      "source": [
        "network = models.Sequential()\n",
        "network.add(layers.Dense(64, input_shape = (10000,), activation = 'relu'))\n",
        "network.add(layers.Dense(64, activation = 'relu'))\n",
        "network.add(layers.Dense(46, activation = 'softmax'))\n",
        "\n",
        "network.compile(optimizer='rmsprop',\n",
        "              loss='categorical_crossentropy',\n",
        "              metrics=['accuracy'])\n",
        "\n",
        "history = network.fit(partial_x_train, partial_y_train, epochs = 9, batch_size = 512, validation_data = (x_val, y_val))\n"
      ],
      "execution_count": 19,
      "outputs": [
        {
          "output_type": "stream",
          "text": [
            "Epoch 1/9\n",
            "16/16 [==============================] - 1s 58ms/step - loss: 3.2190 - accuracy: 0.4003 - val_loss: 1.7869 - val_accuracy: 0.6460\n",
            "Epoch 2/9\n",
            "16/16 [==============================] - 1s 47ms/step - loss: 1.5680 - accuracy: 0.6889 - val_loss: 1.2889 - val_accuracy: 0.7210\n",
            "Epoch 3/9\n",
            "16/16 [==============================] - 1s 47ms/step - loss: 1.0876 - accuracy: 0.7683 - val_loss: 1.1010 - val_accuracy: 0.7660\n",
            "Epoch 4/9\n",
            "16/16 [==============================] - 1s 47ms/step - loss: 0.8573 - accuracy: 0.8209 - val_loss: 1.0146 - val_accuracy: 0.7810\n",
            "Epoch 5/9\n",
            "16/16 [==============================] - 1s 46ms/step - loss: 0.6720 - accuracy: 0.8630 - val_loss: 0.9453 - val_accuracy: 0.8010\n",
            "Epoch 6/9\n",
            "16/16 [==============================] - 1s 47ms/step - loss: 0.5366 - accuracy: 0.8868 - val_loss: 0.8989 - val_accuracy: 0.8140\n",
            "Epoch 7/9\n",
            "16/16 [==============================] - 1s 48ms/step - loss: 0.4198 - accuracy: 0.9159 - val_loss: 0.8746 - val_accuracy: 0.8180\n",
            "Epoch 8/9\n",
            "16/16 [==============================] - 1s 47ms/step - loss: 0.3430 - accuracy: 0.9300 - val_loss: 0.8682 - val_accuracy: 0.8220\n",
            "Epoch 9/9\n",
            "16/16 [==============================] - 1s 47ms/step - loss: 0.2794 - accuracy: 0.9387 - val_loss: 0.8690 - val_accuracy: 0.8140\n"
          ],
          "name": "stdout"
        }
      ]
    },
    {
      "cell_type": "code",
      "metadata": {
        "id": "nauNA11KnRtS",
        "colab": {
          "base_uri": "https://localhost:8080/"
        },
        "outputId": "463743e2-a34d-42c5-9069-a86355c2e0c2"
      },
      "source": [
        "network.evaluate(x_test, y_test)\n",
        "#this has been done using the model of one hot encoiding the y values and then  Categorical cross entropy\n",
        "#this gives an accuracy of 77.42 percentage"
      ],
      "execution_count": 20,
      "outputs": [
        {
          "output_type": "stream",
          "text": [
            "71/71 [==============================] - 0s 2ms/step - loss: 0.9572 - accuracy: 0.7841\n"
          ],
          "name": "stdout"
        },
        {
          "output_type": "execute_result",
          "data": {
            "text/plain": [
              "[0.9571688771247864, 0.784060537815094]"
            ]
          },
          "metadata": {
            "tags": []
          },
          "execution_count": 20
        }
      ]
    },
    {
      "cell_type": "code",
      "metadata": {
        "id": "oV_j3XU4naS_"
      },
      "source": [
        "y_predicted = network.predict(x_test)"
      ],
      "execution_count": 21,
      "outputs": []
    },
    {
      "cell_type": "code",
      "metadata": {
        "id": "0qYOePd5nnz7",
        "colab": {
          "base_uri": "https://localhost:8080/"
        },
        "outputId": "e618ebd0-b526-48a4-b77e-cb8190c1f115"
      },
      "source": [
        "y_predicted"
      ],
      "execution_count": 22,
      "outputs": [
        {
          "output_type": "execute_result",
          "data": {
            "text/plain": [
              "array([[1.3429775e-04, 1.2699326e-03, 1.0065931e-04, ..., 9.8077297e-05,\n",
              "        5.7847042e-06, 1.3793041e-05],\n",
              "       [3.8449585e-03, 1.3168562e-02, 4.7686186e-05, ..., 1.9056881e-05,\n",
              "        6.9680759e-06, 2.8949005e-06],\n",
              "       [5.6239491e-04, 9.3450266e-01, 9.0840540e-04, ..., 8.5175925e-05,\n",
              "        1.8805559e-04, 3.6620437e-05],\n",
              "       ...,\n",
              "       [2.6840105e-05, 8.9121189e-05, 1.7499043e-04, ..., 1.3657882e-04,\n",
              "        1.5987238e-05, 3.0496105e-05],\n",
              "       [3.0368911e-03, 6.4361624e-02, 9.4731944e-03, ..., 9.6845540e-04,\n",
              "        6.5309770e-04, 5.4249086e-04],\n",
              "       [1.5418696e-04, 6.1604691e-01, 6.9789444e-03, ..., 3.4553272e-05,\n",
              "        3.5925899e-04, 3.1804793e-06]], dtype=float32)"
            ]
          },
          "metadata": {
            "tags": []
          },
          "execution_count": 22
        }
      ]
    },
    {
      "cell_type": "code",
      "metadata": {
        "id": "-5x-J6Pvozy3"
      },
      "source": [
        "y_predictions_number = [np.argmax(elem) for elem in y_predicted]"
      ],
      "execution_count": 23,
      "outputs": []
    },
    {
      "cell_type": "code",
      "metadata": {
        "id": "HgXkIiWAo4cv",
        "colab": {
          "base_uri": "https://localhost:8080/",
          "height": 537
        },
        "outputId": "d0f2ddbe-db15-4a13-f0e7-86fd52f4ffac"
      },
      "source": [
        "plt.hist(y_predictions_number, bins = 46)"
      ],
      "execution_count": 24,
      "outputs": [
        {
          "output_type": "execute_result",
          "data": {
            "text/plain": [
              "(array([ 11., 131.,  21., 803., 561.,   0.,  16.,   1.,  44.,  23.,  27.,\n",
              "        110.,   4.,  45.,   0.,   4.,  93.,   2.,  21., 142.,  59.,  23.,\n",
              "          0.,   0.,   9.,  11.,  18.,   5.,   1.,   4.,   2.,   7.,  12.,\n",
              "          6.,   3.,   5.,   1.,   5.,   3.,   1.,   0.,   1.,   2.,   1.,\n",
              "          4.,   4.]),\n",
              " array([ 0.        ,  0.95652174,  1.91304348,  2.86956522,  3.82608696,\n",
              "         4.7826087 ,  5.73913043,  6.69565217,  7.65217391,  8.60869565,\n",
              "         9.56521739, 10.52173913, 11.47826087, 12.43478261, 13.39130435,\n",
              "        14.34782609, 15.30434783, 16.26086957, 17.2173913 , 18.17391304,\n",
              "        19.13043478, 20.08695652, 21.04347826, 22.        , 22.95652174,\n",
              "        23.91304348, 24.86956522, 25.82608696, 26.7826087 , 27.73913043,\n",
              "        28.69565217, 29.65217391, 30.60869565, 31.56521739, 32.52173913,\n",
              "        33.47826087, 34.43478261, 35.39130435, 36.34782609, 37.30434783,\n",
              "        38.26086957, 39.2173913 , 40.17391304, 41.13043478, 42.08695652,\n",
              "        43.04347826, 44.        ]),\n",
              " <a list of 46 Patch objects>)"
            ]
          },
          "metadata": {
            "tags": []
          },
          "execution_count": 24
        },
        {
          "output_type": "display_data",
          "data": {
            "image/png": "[encoded data removed]",
            "text/plain": [
              "<Figure size 432x288 with 1 Axes>"
            ]
          },
          "metadata": {
            "tags": [],
            "needs_background": "light"
          }
        }
      ]
    },
    {
      "cell_type": "code",
      "metadata": {
        "id": "DzUcUSKro9SC",
        "colab": {
          "base_uri": "https://localhost:8080/"
        },
        "outputId": "32cda290-a14f-4ca6-d314-bbd07c64575e"
      },
      "source": [
        "#to probe later - baseline comparison\n",
        "import copy\n",
        "test_labels_copy = copy.copy(test_labels)\n",
        "np.random.shuffle(test_labels_copy)\n",
        "hits_array = np.array(test_labels) == np.array(test_labels_copy)\n",
        "float(np.sum(hits_array)) / len(test_labels)\n",
        "0.18655387355298308"
      ],
      "execution_count": 25,
      "outputs": [
        {
          "output_type": "execute_result",
          "data": {
            "text/plain": [
              "0.18655387355298308"
            ]
          },
          "metadata": {
            "tags": []
          },
          "execution_count": 25
        }
      ]
    },
    {
      "cell_type": "code",
      "metadata": {
        "id": "ZmDF_W0ApcIX"
      },
      "source": [
        "#trying the same example with a integer encoding of the output\n",
        "y_train = np.array(train_labels)\n",
        "y_test = np.array(test_labels)\n",
        "\n",
        "x_val = x_train[:1000]\n",
        "partial_x_train = x_train[1000:]\n",
        "y_val = y_train[:1000]\n",
        "partial_y_train = y_train[1000:]\n",
        "\n"
      ],
      "execution_count": 26,
      "outputs": []
    },
    {
      "cell_type": "code",
      "metadata": {
        "id": "XUB7wHnbp2p8",
        "colab": {
          "base_uri": "https://localhost:8080/"
        },
        "outputId": "e1c3f951-4023-4b0e-c8dc-a0b6117f6652"
      },
      "source": [
        "network = models.Sequential()\n",
        "network.add(layers.Dense(64, input_shape = (10000,), activation = 'relu'))\n",
        "network.add(layers.Dense(64, activation = 'relu'))\n",
        "network.add(layers.Dense(46, activation = 'softmax'))\n",
        "\n",
        "network.compile(optimizer='rmsprop',\n",
        "              loss='sparse_categorical_crossentropy',\n",
        "              metrics=['accuracy'])\n",
        "\n",
        "history = network.fit(partial_x_train, partial_y_train, epochs = 9, batch_size = 512, validation_data = (x_val, y_val))\n",
        "scores = network.evaluate(x_test, y_test)"
      ],
      "execution_count": 27,
      "outputs": [
        {
          "output_type": "stream",
          "text": [
            "Epoch 1/9\n",
            "16/16 [==============================] - 1s 58ms/step - loss: 3.0360 - accuracy: 0.3511 - val_loss: 1.7076 - val_accuracy: 0.6480\n",
            "Epoch 2/9\n",
            "16/16 [==============================] - 1s 48ms/step - loss: 1.4753 - accuracy: 0.6982 - val_loss: 1.3204 - val_accuracy: 0.7190\n",
            "Epoch 3/9\n",
            "16/16 [==============================] - 1s 47ms/step - loss: 1.1063 - accuracy: 0.7673 - val_loss: 1.1423 - val_accuracy: 0.7530\n",
            "Epoch 4/9\n",
            "16/16 [==============================] - 1s 47ms/step - loss: 0.8709 - accuracy: 0.8089 - val_loss: 1.0435 - val_accuracy: 0.7790\n",
            "Epoch 5/9\n",
            "16/16 [==============================] - 1s 48ms/step - loss: 0.6880 - accuracy: 0.8518 - val_loss: 0.9911 - val_accuracy: 0.7990\n",
            "Epoch 6/9\n",
            "16/16 [==============================] - 1s 46ms/step - loss: 0.5549 - accuracy: 0.8855 - val_loss: 0.9393 - val_accuracy: 0.7990\n",
            "Epoch 7/9\n",
            "16/16 [==============================] - 1s 57ms/step - loss: 0.4360 - accuracy: 0.9078 - val_loss: 0.9096 - val_accuracy: 0.8120\n",
            "Epoch 8/9\n",
            "16/16 [==============================] - 1s 47ms/step - loss: 0.3563 - accuracy: 0.9258 - val_loss: 0.8925 - val_accuracy: 0.8110\n",
            "Epoch 9/9\n",
            "16/16 [==============================] - 1s 46ms/step - loss: 0.2976 - accuracy: 0.9388 - val_loss: 0.8979 - val_accuracy: 0.8060\n",
            "71/71 [==============================] - 0s 2ms/step - loss: 1.0058 - accuracy: 0.7818\n"
          ],
          "name": "stdout"
        }
      ]
    },
    {
      "cell_type": "code",
      "metadata": {
        "id": "T1yXZ-b7qMHz",
        "colab": {
          "base_uri": "https://localhost:8080/"
        },
        "outputId": "be1871aa-85a7-4b6f-8277-a183258aa0b5"
      },
      "source": [
        "#result using integer encoding, sparse_categorical_crossentropy\n",
        "#this gives an almost similar value - but slightly different 78.67 %\n",
        "scores"
      ],
      "execution_count": 28,
      "outputs": [
        {
          "output_type": "execute_result",
          "data": {
            "text/plain": [
              "[1.0058329105377197, 0.7818343639373779]"
            ]
          },
          "metadata": {
            "tags": []
          },
          "execution_count": 28
        }
      ]
    }
  ]
}